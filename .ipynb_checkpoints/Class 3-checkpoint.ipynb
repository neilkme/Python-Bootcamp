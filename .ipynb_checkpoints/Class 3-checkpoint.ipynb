{
 "cells": [
  {
   "cell_type": "code",
   "execution_count": 2,
   "metadata": {},
   "outputs": [],
   "source": [
    "f=lambda x:x**x"
   ]
  },
  {
   "cell_type": "code",
   "execution_count": 3,
   "metadata": {},
   "outputs": [
    {
     "data": {
      "text/plain": [
       "27"
      ]
     },
     "execution_count": 3,
     "metadata": {},
     "output_type": "execute_result"
    }
   ],
   "source": [
    "f(3)"
   ]
  },
  {
   "cell_type": "code",
   "execution_count": 8,
   "metadata": {},
   "outputs": [
    {
     "data": {
      "text/plain": [
       "[2, 4, 6, 8, 10]"
      ]
     },
     "execution_count": 8,
     "metadata": {},
     "output_type": "execute_result"
    }
   ],
   "source": [
    "x=[1,2,3,4,5,6,7,8,9,10]\n",
    "\n",
    "f=lambda x:x%2==0\n",
    "list(filter(f, x))"
   ]
  },
  {
   "cell_type": "code",
   "execution_count": 10,
   "metadata": {},
   "outputs": [
    {
     "data": {
      "text/plain": [
       "True"
      ]
     },
     "execution_count": 10,
     "metadata": {},
     "output_type": "execute_result"
    }
   ],
   "source": [
    "2%2==0"
   ]
  },
  {
   "cell_type": "code",
   "execution_count": 12,
   "metadata": {},
   "outputs": [
    {
     "data": {
      "text/plain": [
       "[2, 4, 6, 8, 10, 12, 14, 16, 18, 20]"
      ]
     },
     "execution_count": 12,
     "metadata": {},
     "output_type": "execute_result"
    }
   ],
   "source": [
    "y=lambda g:g*2\n",
    "list(map(y,x))"
   ]
  },
  {
   "cell_type": "code",
   "execution_count": 15,
   "metadata": {},
   "outputs": [
    {
     "data": {
      "text/plain": [
       "55"
      ]
     },
     "execution_count": 15,
     "metadata": {},
     "output_type": "execute_result"
    }
   ],
   "source": [
    "from functools import reduce\n",
    "z=lambda x,y:x+y\n",
    "(reduce(z,x))"
   ]
  },
  {
   "cell_type": "code",
   "execution_count": 19,
   "metadata": {},
   "outputs": [
    {
     "data": {
      "text/plain": [
       "['h', 'u', 'm', 'a', 'n']"
      ]
     },
     "execution_count": 19,
     "metadata": {},
     "output_type": "execute_result"
    }
   ],
   "source": [
    "x=\"human\"\n",
    "y=[]\n",
    "\n",
    "\n",
    "for i in range(0,len(x)):\n",
    "    y.append(x[i])\n",
    "    \n",
    "y\n",
    "    "
   ]
  },
  {
   "cell_type": "code",
   "execution_count": 24,
   "metadata": {},
   "outputs": [
    {
     "data": {
      "text/plain": [
       "['h', 'u', 'm', 'a', 'n']"
      ]
     },
     "execution_count": 24,
     "metadata": {},
     "output_type": "execute_result"
    }
   ],
   "source": [
    "r=[x[i] for i in range(0,len(x))]\n",
    "r\n"
   ]
  },
  {
   "cell_type": "code",
   "execution_count": 32,
   "metadata": {},
   "outputs": [
    {
     "data": {
      "text/plain": [
       "['h', 'u', 'm', 'a', 'n']"
      ]
     },
     "execution_count": 32,
     "metadata": {},
     "output_type": "execute_result"
    }
   ],
   "source": [
    "u=lambda x:x\n",
    "list(map(u,x))"
   ]
  },
  {
   "cell_type": "code",
   "execution_count": 38,
   "metadata": {},
   "outputs": [
    {
     "data": {
      "text/plain": [
       "[2, 4, 6, 8, 10, 12, 14, 16, 18, 20]"
      ]
     },
     "execution_count": 38,
     "metadata": {},
     "output_type": "execute_result"
    }
   ],
   "source": [
    "x=[1,2,3,4,5,6,7,8,9,10]\n",
    "j=[x[i]*2 for i in range(0,len(x))]\n",
    "j"
   ]
  },
  {
   "cell_type": "code",
   "execution_count": 39,
   "metadata": {},
   "outputs": [
    {
     "data": {
      "text/plain": [
       "[2, 4, 6, 8, 10, 12, 14, 16, 18, 20]"
      ]
     },
     "execution_count": 39,
     "metadata": {},
     "output_type": "execute_result"
    }
   ],
   "source": [
    "h=lambda x:2*x\n",
    "list(map(h,x))"
   ]
  },
  {
   "cell_type": "code",
   "execution_count": 46,
   "metadata": {},
   "outputs": [
    {
     "data": {
      "text/plain": [
       "['toy', 'boy', 'soy']"
      ]
     },
     "execution_count": 46,
     "metadata": {},
     "output_type": "execute_result"
    }
   ],
   "source": [
    "n = [\"toy\", \"boy\",\"cat\",\"bat\", \"soy\"]\n",
    "y=[n[i] for i in range(0,len(n)) if \"at\" not in n[i]]\n",
    "y"
   ]
  },
  {
   "cell_type": "code",
   "execution_count": 48,
   "metadata": {},
   "outputs": [
    {
     "data": {
      "text/plain": [
       "['cat', 'bat']"
      ]
     },
     "execution_count": 48,
     "metadata": {},
     "output_type": "execute_result"
    }
   ],
   "source": [
    "j=lambda f:\"at\" in f\n",
    "list(filter(j,n))"
   ]
  },
  {
   "cell_type": "code",
   "execution_count": 59,
   "metadata": {},
   "outputs": [
    {
     "data": {
      "text/plain": [
       "['h', 'm', 'n']"
      ]
     },
     "execution_count": 59,
     "metadata": {},
     "output_type": "execute_result"
    }
   ],
   "source": [
    "x=\"human\"\n",
    "k=[x[i] for i in range(0,len(x)) if ord(x[i])!= 97 and ord(x[i])!= 105 and ord(x[i])!= 111 and ord(x[i])!= 117 and ord(x[i])!= 101]\n",
    "k"
   ]
  },
  {
   "cell_type": "code",
   "execution_count": 55,
   "metadata": {},
   "outputs": [
    {
     "data": {
      "text/plain": [
       "104"
      ]
     },
     "execution_count": 55,
     "metadata": {},
     "output_type": "execute_result"
    }
   ],
   "source": [
    "ord(x[0])"
   ]
  },
  {
   "cell_type": "code",
   "execution_count": 79,
   "metadata": {},
   "outputs": [
    {
     "name": "stdout",
     "output_type": "stream",
     "text": [
      "(3,4)\n"
     ]
    }
   ],
   "source": [
    "from math import *\n",
    "class Point:\n",
    "    def __init__(self,x,y):\n",
    "        self.x=x\n",
    "        self.y=y\n",
    "    def translate(self,s,t):\n",
    "        self.x+=s\n",
    "        self.y+=t\n",
    "    def swap(self):\n",
    "        self.x,self.y=self.y,self.x\n",
    "    def __str__(self):\n",
    "        return \"(\"+str(self.x) + \",\" + str(self.y) + \")\"\n",
    "    def distance(self, p2):\n",
    "        result = sqrt((p2.x-self.x)**2 +(p2.y-self.y)**2)\n",
    "        return result \n",
    "p1=Point(3,4)\n",
    "p2=Point(4,8)\n",
    "\n",
    "print(p1)"
   ]
  },
  {
   "cell_type": "code",
   "execution_count": 77,
   "metadata": {},
   "outputs": [
    {
     "name": "stdout",
     "output_type": "stream",
     "text": [
      "(6,6)\n"
     ]
    }
   ],
   "source": [
    "p1.translate(3,2)\n",
    "print(p1)"
   ]
  },
  {
   "cell_type": "code",
   "execution_count": 78,
   "metadata": {},
   "outputs": [
    {
     "name": "stdout",
     "output_type": "stream",
     "text": [
      "(8,4)\n"
     ]
    }
   ],
   "source": [
    "p2.swap()\n",
    "print(p2)"
   ]
  },
  {
   "cell_type": "code",
   "execution_count": 80,
   "metadata": {},
   "outputs": [
    {
     "data": {
      "text/plain": [
       "4.123105625617661"
      ]
     },
     "execution_count": 80,
     "metadata": {},
     "output_type": "execute_result"
    }
   ],
   "source": [
    "p1.distance(p2)"
   ]
  },
  {
   "cell_type": "code",
   "execution_count": 22,
   "metadata": {},
   "outputs": [
    {
     "name": "stdout",
     "output_type": "stream",
     "text": [
      "100\n",
      "027\n",
      "100.08984375\n"
     ]
    }
   ],
   "source": [
    "class TreasuryBond:\n",
    "    def __init__(self,data):\n",
    "        self.data=data      \n",
    "        dash=0\n",
    "        \n",
    "        for i in range(0,len(self.data)):\n",
    "            if (self.data[i]==\"-\"):\n",
    "                dash=i\n",
    "        self.head=self.data[0:dash]\n",
    "        self.tail=self.data[dash+1:len(self.data)]\n",
    "        \n",
    "    def decimalize(self):\n",
    "        thirdPlace=0\n",
    "        if (len(self.tail)==2):\n",
    "            decimalized= float(self.head) + float(self.tail)/32\n",
    "        else:\n",
    "            secondPlace = float(self.tail[0:2])\n",
    "            if (self.tail[2]==\"+\"):\n",
    "                thirdPlace=0.5\n",
    "            else:\n",
    "                thirdPlace= float(self.tail[2])/8\n",
    "            decimalized = float(self.head) + float(secondPlace+thirdPlace)/32\n",
    "        return decimalized\n",
    "        \n",
    "z=TreasuryBond(\"100-027\")\n",
    "print(z.head)\n",
    "print(z.tail)\n",
    "print(z.decimalize())"
   ]
  },
  {
   "cell_type": "code",
   "execution_count": 33,
   "metadata": {},
   "outputs": [
    {
     "name": "stdout",
     "output_type": "stream",
     "text": [
      "Your new balance is $ 99000\n",
      "Your new balance is $ 100000\n",
      "Your new balance is $ 105000.0\n"
     ]
    }
   ],
   "source": [
    "class BankAccount:\n",
    "    def __init__(self, balance):\n",
    "        self.balance=balance\n",
    "        \n",
    "    def withdraw(self,x):\n",
    "        self.balance-= x\n",
    "        return self.balance\n",
    "    \n",
    "    def deposit(self,y):\n",
    "        self.balance+=y\n",
    "        return self.balance\n",
    "    \n",
    "    def interest(self,r,d):\n",
    "        self.balance= self.balance *(1+(r*d/365))\n",
    "        return self.balance\n",
    "    def __str__(self):\n",
    "        return (\"Your new balance is $ \" +str(self.balance))\n",
    "    \n",
    "b1=BankAccount(100000)\n",
    "b1.withdraw(1000)\n",
    "\n",
    "print(b1)\n",
    "\n",
    "b1.deposit(1000)\n",
    "print (b1)\n",
    "\n",
    "b1.interest(.05,365)\n",
    "print(b1)        "
   ]
  },
  {
   "cell_type": "code",
   "execution_count": 44,
   "metadata": {},
   "outputs": [
    {
     "name": "stdout",
     "output_type": "stream",
     "text": [
      "1/6\n"
     ]
    }
   ],
   "source": [
    "class RationalNumber:\n",
    "    def __init__(self, data):\n",
    "        self.data=data\n",
    "        divider=0\n",
    "        \n",
    "        for i in range(0,len(self.data)):\n",
    "            if(self.data[i]==\"/\"):\n",
    "                divider=i\n",
    "        \n",
    "        self.numerator=int(self.data[0:divider])\n",
    "        self.denominator=int(self.data[divider+1:len(self.data)])\n",
    "        \n",
    "    def __add__(self,data2):\n",
    "        result=\"\"\n",
    "        if (self.denominator==data2.denominator):\n",
    "            result=str(self.numerator + data2.numerator) + \"/\" + str(self.denominator)\n",
    "        else:\n",
    "            newNumerator=0\n",
    "            newDenominator=0\n",
    "            newNumerator = self.numerator * data2.denominator + data2.numerator * self.denominator\n",
    "            newDenominator = self.denominator * data2.denominator\n",
    "            result = str(newNumerator)+ \"/\"+ str(newDenominator)\n",
    "        return result\n",
    "    \n",
    "    def __mul__(self,data2):\n",
    "        result=\"\"\n",
    "        newNumerator=0\n",
    "        newDenom=0\n",
    "        newNumerator= self.numerator * data2.numerator\n",
    "        newDenom=self.denominator * data2.denominator\n",
    "        result = str(newNumerator)+\"/\"+str(newDenom)\n",
    "        return result\n",
    "        \n",
    "        \n",
    "r1=RationalNumber(\"1/3\")\n",
    "r2 = RationalNumber(\"1/2\")\n",
    "#python understands that I am trying to add two objects together. I can change the format of the add function by adding underscores before and after and therefore it can directly add 2 objects without having to use r1.add(r2)\n",
    "print(r1*r2)\n",
    "\n",
    "\n",
    "        \n",
    "        "
   ]
  },
  {
   "cell_type": "code",
   "execution_count": null,
   "metadata": {},
   "outputs": [],
   "source": [
    "def factors(x):\n",
    "    for i in range(1,x+1):\n",
    "        if (x%i==0):\n",
    "            print(i)\n",
    "    \n",
    "factors(100000000000)\n"
   ]
  },
  {
   "cell_type": "code",
   "execution_count": 71,
   "metadata": {},
   "outputs": [
    {
     "name": "stdout",
     "output_type": "stream",
     "text": [
      "1\n",
      "2\n",
      "4\n",
      "5\n",
      "8\n",
      "10\n",
      "16\n",
      "20\n",
      "25\n",
      "32\n",
      "40\n",
      "50\n",
      "64\n",
      "80\n",
      "100\n",
      "125\n",
      "128\n",
      "160\n",
      "200\n",
      "250\n",
      "256\n",
      "320\n",
      "400\n",
      "500\n",
      "512\n",
      "625\n",
      "640\n",
      "800\n",
      "1000\n",
      "1024\n",
      "1250\n",
      "1280\n",
      "1600\n",
      "2000\n",
      "2048\n",
      "2500\n",
      "2560\n",
      "3125\n",
      "3200\n",
      "4000\n",
      "4096\n",
      "5000\n",
      "5120\n",
      "6250\n",
      "6400\n",
      "8000\n",
      "8192\n",
      "10000\n",
      "10240\n",
      "12500\n",
      "12800\n",
      "15625\n",
      "16000\n",
      "16384\n",
      "20000\n",
      "20480\n",
      "25000\n",
      "25600\n",
      "31250\n",
      "32000\n",
      "32768\n",
      "40000\n",
      "40960\n",
      "50000\n",
      "51200\n",
      "62500\n",
      "64000\n",
      "65536\n",
      "78125\n",
      "80000\n",
      "81920\n",
      "100000\n",
      "102400\n",
      "125000\n",
      "128000\n",
      "131072\n",
      "156250\n",
      "160000\n",
      "163840\n",
      "200000\n",
      "204800\n",
      "250000\n",
      "256000\n",
      "262144\n",
      "312500\n",
      "320000\n",
      "327680\n",
      "390625\n",
      "400000\n",
      "409600\n",
      "500000\n",
      "512000\n",
      "524288\n",
      "625000\n",
      "640000\n",
      "655360\n",
      "781250\n",
      "800000\n",
      "819200\n",
      "1000000\n",
      "1024000\n",
      "1048576\n",
      "1250000\n",
      "1280000\n",
      "1310720\n",
      "1562500\n",
      "1600000\n",
      "1638400\n",
      "1953125\n",
      "2000000\n",
      "2048000\n",
      "2097152\n",
      "2500000\n",
      "2560000\n",
      "2621440\n",
      "3125000\n",
      "3200000\n",
      "3276800\n",
      "3906250\n",
      "4000000\n",
      "4096000\n",
      "4194304\n",
      "5000000\n",
      "5120000\n",
      "5242880\n",
      "6250000\n",
      "6400000\n",
      "6553600\n",
      "7812500\n",
      "8000000\n",
      "8192000\n",
      "8388608\n",
      "9765625\n",
      "10000000\n",
      "10240000\n",
      "10485760\n",
      "12500000\n",
      "12800000\n",
      "13107200\n",
      "15625000\n",
      "16000000\n",
      "16384000\n",
      "16777216\n",
      "19531250\n",
      "20000000\n",
      "20480000\n",
      "20971520\n"
     ]
    },
    {
     "ename": "KeyboardInterrupt",
     "evalue": "",
     "output_type": "error",
     "traceback": [
      "\u001b[1;31m---------------------------------------------------------------------------\u001b[0m",
      "\u001b[1;31mKeyboardInterrupt\u001b[0m                         Traceback (most recent call last)",
      "\u001b[1;32m<ipython-input-71-77c077f88870>\u001b[0m in \u001b[0;36m<module>\u001b[1;34m\u001b[0m\n\u001b[0;32m      3\u001b[0m         \u001b[1;32mif\u001b[0m \u001b[1;33m(\u001b[0m\u001b[0mx\u001b[0m\u001b[1;33m%\u001b[0m\u001b[0mi\u001b[0m\u001b[1;33m==\u001b[0m\u001b[1;36m0\u001b[0m\u001b[1;33m)\u001b[0m\u001b[1;33m:\u001b[0m\u001b[1;33m\u001b[0m\u001b[1;33m\u001b[0m\u001b[0m\n\u001b[0;32m      4\u001b[0m             \u001b[0mprint\u001b[0m\u001b[1;33m(\u001b[0m\u001b[0mi\u001b[0m\u001b[1;33m)\u001b[0m\u001b[1;33m\u001b[0m\u001b[1;33m\u001b[0m\u001b[0m\n\u001b[1;32m----> 5\u001b[1;33m \u001b[0mfactors\u001b[0m\u001b[1;33m(\u001b[0m\u001b[1;36m100000000000000000000000000000000000000000\u001b[0m\u001b[1;33m)\u001b[0m\u001b[1;33m\u001b[0m\u001b[1;33m\u001b[0m\u001b[0m\n\u001b[0m\u001b[0;32m      6\u001b[0m \u001b[1;33m\u001b[0m\u001b[0m\n",
      "\u001b[1;32m<ipython-input-70-b15d409b2e6a>\u001b[0m in \u001b[0;36mfactors\u001b[1;34m(x)\u001b[0m\n\u001b[0;32m      1\u001b[0m \u001b[1;32mdef\u001b[0m \u001b[0mfactors\u001b[0m\u001b[1;33m(\u001b[0m\u001b[0mx\u001b[0m\u001b[1;33m)\u001b[0m\u001b[1;33m:\u001b[0m\u001b[1;33m\u001b[0m\u001b[1;33m\u001b[0m\u001b[0m\n\u001b[0;32m      2\u001b[0m     \u001b[1;32mfor\u001b[0m \u001b[0mi\u001b[0m \u001b[1;32min\u001b[0m \u001b[0mrange\u001b[0m\u001b[1;33m(\u001b[0m\u001b[1;36m1\u001b[0m\u001b[1;33m,\u001b[0m\u001b[0mx\u001b[0m\u001b[1;33m+\u001b[0m\u001b[1;36m1\u001b[0m\u001b[1;33m)\u001b[0m\u001b[1;33m:\u001b[0m\u001b[1;33m\u001b[0m\u001b[1;33m\u001b[0m\u001b[0m\n\u001b[1;32m----> 3\u001b[1;33m         \u001b[1;32mif\u001b[0m \u001b[1;33m(\u001b[0m\u001b[0mx\u001b[0m\u001b[1;33m%\u001b[0m\u001b[0mi\u001b[0m\u001b[1;33m==\u001b[0m\u001b[1;36m0\u001b[0m\u001b[1;33m)\u001b[0m\u001b[1;33m:\u001b[0m\u001b[1;33m\u001b[0m\u001b[1;33m\u001b[0m\u001b[0m\n\u001b[0m\u001b[0;32m      4\u001b[0m             \u001b[0mprint\u001b[0m \u001b[1;33m(\u001b[0m\u001b[0mi\u001b[0m\u001b[1;33m)\u001b[0m\u001b[1;33m\u001b[0m\u001b[1;33m\u001b[0m\u001b[0m\n\u001b[0;32m      5\u001b[0m \u001b[1;33m\u001b[0m\u001b[0m\n",
      "\u001b[1;31mKeyboardInterrupt\u001b[0m: "
     ]
    }
   ],
   "source": [
    "def factors2(x):\n",
    "    for i in range (1,(x/2)+1):\n",
    "        if (x%i==0):\n",
    "            print(i)\n",
    "factors(100000000000000000000000000000000000000000)\n",
    "    "
   ]
  },
  {
   "cell_type": "code",
   "execution_count": 72,
   "metadata": {},
   "outputs": [
    {
     "name": "stdout",
     "output_type": "stream",
     "text": [
      "1\n",
      "1e+34\n",
      "2\n",
      "5e+33\n",
      "4\n",
      "2.5e+33\n",
      "5\n",
      "2e+33\n",
      "8\n",
      "1.25e+33\n",
      "10\n",
      "1e+33\n",
      "16\n",
      "6.25e+32\n",
      "20\n",
      "5e+32\n",
      "25\n",
      "4e+32\n",
      "32\n",
      "3.125e+32\n",
      "40\n",
      "2.5e+32\n",
      "50\n",
      "2e+32\n",
      "64\n",
      "1.5625e+32\n",
      "80\n",
      "1.25e+32\n",
      "100\n",
      "1e+32\n",
      "125\n",
      "8e+31\n",
      "128\n",
      "7.8125e+31\n",
      "160\n",
      "6.25e+31\n",
      "200\n",
      "5e+31\n",
      "250\n",
      "4e+31\n",
      "256\n",
      "3.90625e+31\n",
      "320\n",
      "3.125e+31\n",
      "400\n",
      "2.5e+31\n",
      "500\n",
      "2e+31\n",
      "512\n",
      "1.953125e+31\n",
      "625\n",
      "1.6e+31\n",
      "640\n",
      "1.5625e+31\n",
      "800\n",
      "1.25e+31\n",
      "1000\n",
      "1e+31\n",
      "1024\n",
      "9.765625e+30\n",
      "1250\n",
      "8e+30\n",
      "1280\n",
      "7.8125e+30\n",
      "1600\n",
      "6.25e+30\n",
      "2000\n",
      "5e+30\n",
      "2048\n",
      "4.8828125e+30\n",
      "2500\n",
      "4e+30\n",
      "2560\n",
      "3.90625e+30\n",
      "3125\n",
      "3.2e+30\n",
      "3200\n",
      "3.125e+30\n",
      "4000\n",
      "2.5e+30\n",
      "4096\n",
      "2.44140625e+30\n",
      "5000\n",
      "2e+30\n",
      "5120\n",
      "1.953125e+30\n",
      "6250\n",
      "1.6e+30\n",
      "6400\n",
      "1.5625e+30\n",
      "8000\n",
      "1.25e+30\n",
      "8192\n",
      "1.220703125e+30\n",
      "10000\n",
      "1e+30\n",
      "10240\n",
      "9.765625e+29\n",
      "12500\n",
      "8e+29\n",
      "12800\n",
      "7.8125e+29\n",
      "15625\n",
      "6.4e+29\n",
      "16000\n",
      "6.25e+29\n",
      "16384\n",
      "6.103515625e+29\n",
      "20000\n",
      "5e+29\n",
      "20480\n",
      "4.8828125e+29\n",
      "25000\n",
      "4e+29\n",
      "25600\n",
      "3.90625e+29\n",
      "31250\n",
      "3.2e+29\n",
      "32000\n",
      "3.125e+29\n",
      "32768\n",
      "3.0517578125e+29\n",
      "40000\n",
      "2.5e+29\n",
      "40960\n",
      "2.44140625e+29\n",
      "50000\n",
      "2e+29\n",
      "51200\n",
      "1.953125e+29\n",
      "62500\n",
      "1.6e+29\n",
      "64000\n",
      "1.5625e+29\n",
      "65536\n",
      "1.52587890625e+29\n",
      "78125\n",
      "1.28e+29\n",
      "80000\n",
      "1.25e+29\n",
      "81920\n",
      "1.220703125e+29\n",
      "100000\n",
      "1e+29\n",
      "102400\n",
      "9.765625e+28\n",
      "125000\n",
      "8e+28\n",
      "128000\n",
      "7.8125e+28\n",
      "131072\n",
      "7.62939453125e+28\n",
      "156250\n",
      "6.4e+28\n",
      "160000\n",
      "6.25e+28\n",
      "163840\n",
      "6.103515625e+28\n",
      "200000\n",
      "5e+28\n",
      "204800\n",
      "4.8828125e+28\n",
      "250000\n",
      "4e+28\n",
      "256000\n",
      "3.90625e+28\n",
      "262144\n",
      "3.814697265625e+28\n",
      "312500\n",
      "3.2e+28\n",
      "320000\n",
      "3.125e+28\n",
      "327680\n",
      "3.0517578125e+28\n",
      "390625\n",
      "2.56e+28\n",
      "400000\n",
      "2.5e+28\n",
      "409600\n",
      "2.44140625e+28\n",
      "500000\n",
      "2e+28\n",
      "512000\n",
      "1.953125e+28\n",
      "524288\n",
      "1.9073486328125e+28\n",
      "625000\n",
      "1.6e+28\n",
      "640000\n",
      "1.5625e+28\n",
      "655360\n",
      "1.52587890625e+28\n",
      "781250\n",
      "1.28e+28\n",
      "800000\n",
      "1.25e+28\n",
      "819200\n",
      "1.220703125e+28\n",
      "1000000\n",
      "1e+28\n",
      "1024000\n",
      "9.765625e+27\n",
      "1048576\n",
      "9.5367431640625e+27\n",
      "1250000\n",
      "8e+27\n",
      "1280000\n",
      "7.8125e+27\n",
      "1310720\n",
      "7.62939453125e+27\n",
      "1562500\n",
      "6.4e+27\n",
      "1600000\n",
      "6.25e+27\n",
      "1638400\n",
      "6.103515625e+27\n",
      "1953125\n",
      "5.12e+27\n",
      "2000000\n",
      "5e+27\n",
      "2048000\n",
      "4.8828125e+27\n",
      "2097152\n",
      "4.76837158203125e+27\n",
      "2500000\n",
      "4e+27\n",
      "2560000\n",
      "3.90625e+27\n",
      "2621440\n",
      "3.814697265625e+27\n",
      "3125000\n",
      "3.2e+27\n",
      "3200000\n",
      "3.125e+27\n",
      "3276800\n",
      "3.0517578125e+27\n",
      "3906250\n",
      "2.56e+27\n",
      "4000000\n",
      "2.5e+27\n",
      "4096000\n",
      "2.44140625e+27\n",
      "4194304\n",
      "2.384185791015625e+27\n",
      "5000000\n",
      "2e+27\n",
      "5120000\n",
      "1.953125e+27\n",
      "5242880\n",
      "1.9073486328125e+27\n",
      "6250000\n",
      "1.6e+27\n",
      "6400000\n",
      "1.5625e+27\n",
      "6553600\n",
      "1.52587890625e+27\n",
      "7812500\n",
      "1.28e+27\n",
      "8000000\n",
      "1.25e+27\n",
      "8192000\n",
      "1.220703125e+27\n",
      "8388608\n",
      "1.1920928955078124e+27\n",
      "9765625\n",
      "1.024e+27\n",
      "10000000\n",
      "1e+27\n",
      "10240000\n",
      "9.765625e+26\n",
      "10485760\n",
      "9.5367431640625e+26\n",
      "12500000\n",
      "8e+26\n",
      "12800000\n",
      "7.8125e+26\n",
      "13107200\n",
      "7.62939453125e+26\n",
      "15625000\n",
      "6.4e+26\n",
      "16000000\n",
      "6.25e+26\n",
      "16384000\n",
      "6.103515625e+26\n",
      "16777216\n",
      "5.960464477539062e+26\n",
      "19531250\n",
      "5.12e+26\n",
      "20000000\n",
      "5e+26\n",
      "20480000\n",
      "4.8828125e+26\n",
      "20971520\n",
      "4.76837158203125e+26\n",
      "25000000\n",
      "4e+26\n",
      "25600000\n",
      "3.90625e+26\n",
      "26214400\n",
      "3.814697265625e+26\n",
      "31250000\n",
      "3.2e+26\n",
      "32000000\n",
      "3.125e+26\n",
      "32768000\n",
      "3.0517578125e+26\n",
      "33554432\n",
      "2.980232238769531e+26\n",
      "39062500\n",
      "2.56e+26\n",
      "40000000\n",
      "2.5e+26\n",
      "40960000\n",
      "2.44140625e+26\n",
      "41943040\n",
      "2.384185791015625e+26\n",
      "48828125\n",
      "2.048e+26\n",
      "50000000\n",
      "2e+26\n",
      "51200000\n",
      "1.953125e+26\n",
      "52428800\n",
      "1.9073486328125e+26\n",
      "62500000\n",
      "1.6e+26\n",
      "64000000\n",
      "1.5625e+26\n",
      "65536000\n",
      "1.52587890625e+26\n",
      "67108864\n",
      "1.4901161193847655e+26\n",
      "78125000\n",
      "1.28e+26\n",
      "80000000\n",
      "1.25e+26\n",
      "81920000\n",
      "1.220703125e+26\n",
      "83886080\n",
      "1.1920928955078124e+26\n",
      "97656250\n",
      "1.024e+26\n",
      "100000000\n",
      "1e+26\n",
      "102400000\n",
      "9.765625e+25\n",
      "104857600\n",
      "9.5367431640625e+25\n",
      "125000000\n",
      "8e+25\n",
      "128000000\n",
      "7.8125e+25\n",
      "131072000\n",
      "7.62939453125e+25\n",
      "134217728\n",
      "7.450580596923828e+25\n"
     ]
    },
    {
     "ename": "KeyboardInterrupt",
     "evalue": "",
     "output_type": "error",
     "traceback": [
      "\u001b[1;31m---------------------------------------------------------------------------\u001b[0m",
      "\u001b[1;31mKeyboardInterrupt\u001b[0m                         Traceback (most recent call last)",
      "\u001b[1;32m<ipython-input-72-60cce15d6eea>\u001b[0m in \u001b[0;36m<module>\u001b[1;34m\u001b[0m\n\u001b[0;32m      5\u001b[0m             \u001b[0mprint\u001b[0m\u001b[1;33m(\u001b[0m\u001b[0mi\u001b[0m\u001b[1;33m)\u001b[0m\u001b[1;33m\u001b[0m\u001b[1;33m\u001b[0m\u001b[0m\n\u001b[0;32m      6\u001b[0m             \u001b[0mprint\u001b[0m\u001b[1;33m(\u001b[0m\u001b[0mx\u001b[0m\u001b[1;33m/\u001b[0m\u001b[0mi\u001b[0m\u001b[1;33m)\u001b[0m\u001b[1;33m\u001b[0m\u001b[1;33m\u001b[0m\u001b[0m\n\u001b[1;32m----> 7\u001b[1;33m \u001b[0mfactors3\u001b[0m\u001b[1;33m(\u001b[0m\u001b[1;36m10000000000000000000000000000000000\u001b[0m\u001b[1;33m)\u001b[0m\u001b[1;33m\u001b[0m\u001b[1;33m\u001b[0m\u001b[0m\n\u001b[0m",
      "\u001b[1;32m<ipython-input-72-60cce15d6eea>\u001b[0m in \u001b[0;36mfactors3\u001b[1;34m(x)\u001b[0m\n\u001b[0;32m      2\u001b[0m \u001b[1;32mdef\u001b[0m \u001b[0mfactors3\u001b[0m\u001b[1;33m(\u001b[0m\u001b[0mx\u001b[0m\u001b[1;33m)\u001b[0m\u001b[1;33m:\u001b[0m\u001b[1;33m\u001b[0m\u001b[1;33m\u001b[0m\u001b[0m\n\u001b[0;32m      3\u001b[0m     \u001b[1;32mfor\u001b[0m \u001b[0mi\u001b[0m \u001b[1;32min\u001b[0m \u001b[0mrange\u001b[0m\u001b[1;33m(\u001b[0m\u001b[1;36m1\u001b[0m\u001b[1;33m,\u001b[0m\u001b[0mint\u001b[0m\u001b[1;33m(\u001b[0m\u001b[0msqrt\u001b[0m\u001b[1;33m(\u001b[0m\u001b[0mx\u001b[0m\u001b[1;33m)\u001b[0m\u001b[1;33m)\u001b[0m\u001b[1;33m+\u001b[0m\u001b[1;36m1\u001b[0m\u001b[1;33m)\u001b[0m\u001b[1;33m:\u001b[0m\u001b[1;33m\u001b[0m\u001b[1;33m\u001b[0m\u001b[0m\n\u001b[1;32m----> 4\u001b[1;33m         \u001b[1;32mif\u001b[0m \u001b[1;33m(\u001b[0m\u001b[0mx\u001b[0m\u001b[1;33m%\u001b[0m\u001b[0mi\u001b[0m\u001b[1;33m==\u001b[0m\u001b[1;36m0\u001b[0m\u001b[1;33m)\u001b[0m\u001b[1;33m:\u001b[0m\u001b[1;33m\u001b[0m\u001b[1;33m\u001b[0m\u001b[0m\n\u001b[0m\u001b[0;32m      5\u001b[0m             \u001b[0mprint\u001b[0m\u001b[1;33m(\u001b[0m\u001b[0mi\u001b[0m\u001b[1;33m)\u001b[0m\u001b[1;33m\u001b[0m\u001b[1;33m\u001b[0m\u001b[0m\n\u001b[0;32m      6\u001b[0m             \u001b[0mprint\u001b[0m\u001b[1;33m(\u001b[0m\u001b[0mx\u001b[0m\u001b[1;33m/\u001b[0m\u001b[0mi\u001b[0m\u001b[1;33m)\u001b[0m\u001b[1;33m\u001b[0m\u001b[1;33m\u001b[0m\u001b[0m\n",
      "\u001b[1;31mKeyboardInterrupt\u001b[0m: "
     ]
    }
   ],
   "source": [
    "from math import *\n",
    "def factors3(x):\n",
    "    for i in range(1,int(sqrt(x))+1):\n",
    "        if (x%i==0):\n",
    "            print(i)\n",
    "            print(x/i)\n",
    "factors3(10000000000000000000000000000000000)"
   ]
  },
  {
   "cell_type": "code",
   "execution_count": null,
   "metadata": {},
   "outputs": [],
   "source": []
  },
  {
   "cell_type": "code",
   "execution_count": null,
   "metadata": {},
   "outputs": [],
   "source": []
  }
 ],
 "metadata": {
  "kernelspec": {
   "display_name": "Python 3",
   "language": "python",
   "name": "python3"
  },
  "language_info": {
   "codemirror_mode": {
    "name": "ipython",
    "version": 3
   },
   "file_extension": ".py",
   "mimetype": "text/x-python",
   "name": "python",
   "nbconvert_exporter": "python",
   "pygments_lexer": "ipython3",
   "version": "3.7.3"
  }
 },
 "nbformat": 4,
 "nbformat_minor": 2
}
